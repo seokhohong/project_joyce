{
 "cells": [
  {
   "cell_type": "code",
   "execution_count": 8,
   "metadata": {},
   "outputs": [],
   "source": [
    "import tensorflow.compat.v1 as tf\n",
    "tf.disable_v2_behavior()\n",
    "\n",
    "import tensorflow_hub\n",
    "import numpy as np\n",
    "\n",
    "import os"
   ]
  },
  {
   "cell_type": "code",
   "execution_count": 5,
   "metadata": {},
   "outputs": [],
   "source": [
    "import nltk.data\n",
    "\n",
    "tokenizer = nltk.data.load('tokenizers/punkt/english.pickle')"
   ]
  },
  {
   "cell_type": "code",
   "execution_count": 6,
   "metadata": {},
   "outputs": [],
   "source": [
    "weak_writing = ['scribophile_texts0.txt', 'scribophile_texts10.txt']"
   ]
  },
  {
   "cell_type": "code",
   "execution_count": 11,
   "metadata": {},
   "outputs": [],
   "source": [
    "weak_sentences = []\n",
    "for p in weak_writing:\n",
    "    with open(os.path.join('../texts', p), 'r') as f:\n",
    "        weak_sentences.extend(tokenizer.tokenize(f.read()))"
   ]
  },
  {
   "cell_type": "code",
   "execution_count": 12,
   "metadata": {},
   "outputs": [
    {
     "data": {
      "text/plain": [
       "['Chapter 10: A New Family\\nThankfully, my new husband left me alone the first night in his house, despite the flower adorned bedroom we were pushed into by a bunch of giggling women, their lewd puns barely piercing the hazy fog of my consciousness.',\n",
       " 'I would have thanked God, the statue of stone, someone, but I no longer believed.',\n",
       " 'In the early hours of dawn, I had a momentary panic attack having remembered vague stories about women peeking and checking bedsheets for blood in the newlyweds’ marital bed.',\n",
       " 'Mercifully no one turned up.',\n",
       " '“Every family has different customs,” Parvati buwa had once told me, recounting how she would have had to marry her husband’s younger brother if only she hadn’t been considered cursed.',\n",
       " 'Thank god their traditions had stopped at changing my name, I shuddered in relief.',\n",
       " 'In normal circumstances, a part of a girls’ wedding preparation included shadowing the women in the kitchen, being coached in the tips and tricks of married life and instructed about the expectations that rest on her shoulders.',\n",
       " 'I had spent the last few days at home shunned by the grownups and excluded from the frenetic activity as the house was readied for a wedding that people approved of, their pleasure more important than me.',\n",
       " 'Consequently, I was unenlightened about what my new role entailed or how I was to behave.',\n",
       " 'I had bathed and made my way to the kitchen as soon as I woke up, that much was intuitive.']"
      ]
     },
     "execution_count": 12,
     "metadata": {},
     "output_type": "execute_result"
    }
   ],
   "source": [
    "weak_sentences[:10]"
   ]
  },
  {
   "cell_type": "code",
   "execution_count": null,
   "metadata": {},
   "outputs": [],
   "source": []
  }
 ],
 "metadata": {
  "kernelspec": {
   "display_name": "Python 3",
   "language": "python",
   "name": "python3"
  },
  "language_info": {
   "codemirror_mode": {
    "name": "ipython",
    "version": 3
   },
   "file_extension": ".py",
   "mimetype": "text/x-python",
   "name": "python",
   "nbconvert_exporter": "python",
   "pygments_lexer": "ipython3",
   "version": "3.5.3"
  }
 },
 "nbformat": 4,
 "nbformat_minor": 4
}
