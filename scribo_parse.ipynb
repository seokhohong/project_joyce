{
 "cells": [
  {
   "cell_type": "code",
   "execution_count": 6,
   "metadata": {},
   "outputs": [],
   "source": [
    "from selenium import webdriver\n",
    "from selenium.webdriver.common.keys import Keys\n",
    "import multiprocessing\n",
    "from selenium.webdriver.common.by import By\n",
    "from selenium.webdriver.support.ui import WebDriverWait\n",
    "from selenium.webdriver.support import expected_conditions as EC\n",
    "\n",
    "from multiprocessing import Pool\n",
    "\n",
    "import pickle"
   ]
  },
  {
   "cell_type": "code",
   "execution_count": 7,
   "metadata": {},
   "outputs": [],
   "source": [
    "def login():\n",
    "    with open('credentials.txt', 'r') as f:\n",
    "        password = f.readline()\n",
    "\n",
    "    driver = webdriver.Firefox()\n",
    "    driver.get(\"https://www.scribophile.com/dashboard/login\")\n",
    "    driver.find_element_by_name('email').send_keys('seokho_hong@yahoo.com')\n",
    "    driver.find_element_by_name('password').send_keys(password)\n",
    "    driver.find_element_by_name('password').send_keys(Keys.RETURN)\n",
    "    return driver\n",
    "    \n",
    "def scrape_page(driver, page_num, text_results):\n",
    "    wait = WebDriverWait(driver, 10)\n",
    "    wait.until(EC.element_to_be_clickable((By.ID, 'feed')))\n",
    "    driver.get('https://www.scribophile.com/writing/browse?page=' + str(page_num) + '&genre=fiction&type=novel&showrestrictedwork=false&showlockedwork=false&showpersonalspotlightwork=false&showkarmafreespotlightwork=false&query=&tag=')\n",
    "    # get the works on the page\n",
    "    links = []\n",
    "    for elem in driver.find_elements_by_class_name('work-details'):\n",
    "        links.append(elem.find_element_by_tag_name('a').get_attribute('href'))\n",
    "        \n",
    "    for link in links:\n",
    "        driver.get(link)\n",
    "        driver.find_element_by_id('work-body').find_element_by_class_name('pill-button').click()\n",
    "        text_results[link] = driver.find_element_by_id('work-body').text\n",
    "    driver.quit()\n",
    "\n",
    "def run_scraper(page_num, text_results):\n",
    "    driver = login()\n",
    "    scrape_page(driver, page_num, text_results)"
   ]
  },
  {
   "cell_type": "code",
   "execution_count": 8,
   "metadata": {},
   "outputs": [],
   "source": [
    "def scrape_pool(page_range, num_processes=2):\n",
    "    pool = Pool(num_processes)\n",
    "    manager = multiprocessing.Manager()\n",
    "    text_results = manager.dict()\n",
    "    jobs = []\n",
    "    for i in page_range:\n",
    "        pool.apply_async(run_scraper, args=(i, text_results))\n",
    "\n",
    "    pool.close()\n",
    "    pool.join()\n",
    "\n",
    "    return text_results"
   ]
  },
  {
   "cell_type": "code",
   "execution_count": 13,
   "metadata": {},
   "outputs": [],
   "source": [
    "increment_size = 20\n",
    "for corpus_index in range(1):\n",
    "    texts = scrape_pool(range(corpus_index * increment_size, (corpus_index + 1) * increment_size), num_processes=5)\n",
    "    with open('scribophile/scribophile_texts' + str(corpus_index) + '.txt', 'w') as f:\n",
    "        f.writelines(texts.values())\n",
    "    #with open('scribophile_texts' + str(corpus_index) + \".pkl\", 'wb') as f:\n",
    "    #    pickle.dump(texts.items(), f)"
   ]
  },
  {
   "cell_type": "code",
   "execution_count": 115,
   "metadata": {},
   "outputs": [],
   "source": [
    "with open('scribophile_texts0.pkl', 'rb') as f:\n",
    "    reloaded_texts = pickle.load(f)"
   ]
  },
  {
   "cell_type": "code",
   "execution_count": null,
   "metadata": {},
   "outputs": [],
   "source": []
  }
 ],
 "metadata": {
  "kernelspec": {
   "display_name": "Python 3",
   "language": "python",
   "name": "python3"
  },
  "language_info": {
   "codemirror_mode": {
    "name": "ipython",
    "version": 3
   },
   "file_extension": ".py",
   "mimetype": "text/x-python",
   "name": "python",
   "nbconvert_exporter": "python",
   "pygments_lexer": "ipython3",
   "version": "3.6.6"
  }
 },
 "nbformat": 4,
 "nbformat_minor": 2
}
